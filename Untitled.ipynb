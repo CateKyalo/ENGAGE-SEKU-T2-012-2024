{
 "cells": [
  {
   "cell_type": "code",
   "execution_count": 1,
   "id": "560e3009-92a8-497e-b164-6ccb335c543c",
   "metadata": {},
   "outputs": [
    {
     "data": {
      "text/html": [
       "<div>\n",
       "<style scoped>\n",
       "    .dataframe tbody tr th:only-of-type {\n",
       "        vertical-align: middle;\n",
       "    }\n",
       "\n",
       "    .dataframe tbody tr th {\n",
       "        vertical-align: top;\n",
       "    }\n",
       "\n",
       "    .dataframe thead th {\n",
       "        text-align: right;\n",
       "    }\n",
       "</style>\n",
       "<table border=\"1\" class=\"dataframe\">\n",
       "  <thead>\n",
       "    <tr style=\"text-align: right;\">\n",
       "      <th></th>\n",
       "      <th>Gender</th>\n",
       "      <th>Height</th>\n",
       "      <th>Weight</th>\n",
       "      <th>Index</th>\n",
       "      <th>Unnamed: 4</th>\n",
       "      <th>Unnamed: 5</th>\n",
       "      <th>female</th>\n",
       "      <th>male</th>\n",
       "    </tr>\n",
       "  </thead>\n",
       "  <tbody>\n",
       "    <tr>\n",
       "      <th>0</th>\n",
       "      <td>Fema   le</td>\n",
       "      <td>15    8</td>\n",
       "      <td>89</td>\n",
       "      <td>4</td>\n",
       "      <td>NaN</td>\n",
       "      <td>NaN</td>\n",
       "      <td>158</td>\n",
       "      <td>158</td>\n",
       "    </tr>\n",
       "    <tr>\n",
       "      <th>1</th>\n",
       "      <td>Fema   le</td>\n",
       "      <td>15    8</td>\n",
       "      <td>89</td>\n",
       "      <td>4</td>\n",
       "      <td>NaN</td>\n",
       "      <td>NaN</td>\n",
       "      <td>158</td>\n",
       "      <td>158</td>\n",
       "    </tr>\n",
       "    <tr>\n",
       "      <th>2</th>\n",
       "      <td>Female</td>\n",
       "      <td>178</td>\n",
       "      <td>127</td>\n",
       "      <td>4</td>\n",
       "      <td>NaN</td>\n",
       "      <td>NaN</td>\n",
       "      <td>178</td>\n",
       "      <td>178</td>\n",
       "    </tr>\n",
       "    <tr>\n",
       "      <th>3</th>\n",
       "      <td>Female</td>\n",
       "      <td>none</td>\n",
       "      <td>139</td>\n",
       "      <td>5</td>\n",
       "      <td>NaN</td>\n",
       "      <td>NaN</td>\n",
       "      <td>none</td>\n",
       "      <td>none</td>\n",
       "    </tr>\n",
       "    <tr>\n",
       "      <th>4</th>\n",
       "      <td>Female</td>\n",
       "      <td>none</td>\n",
       "      <td>104</td>\n",
       "      <td>5</td>\n",
       "      <td>NaN</td>\n",
       "      <td>NaN</td>\n",
       "      <td>181</td>\n",
       "      <td>181</td>\n",
       "    </tr>\n",
       "  </tbody>\n",
       "</table>\n",
       "</div>"
      ],
      "text/plain": [
       "      Gender   Height Weight  Index  Unnamed: 4  Unnamed: 5 female  male\n",
       "0  Fema   le  15    8     89      4         NaN         NaN    158   158\n",
       "1  Fema   le  15    8     89      4         NaN         NaN    158   158\n",
       "2     Female      178    127      4         NaN         NaN    178   178\n",
       "3     Female     none    139      5         NaN         NaN   none  none\n",
       "4     Female     none    104      5         NaN         NaN    181   181"
      ]
     },
     "execution_count": 1,
     "metadata": {},
     "output_type": "execute_result"
    }
   ],
   "source": [
    "import pandas as pd\n",
    "import numpy as np\n",
    "df=pd.read_csv(\"dirtybmi_22.csv\")\n",
    "df.head()"
   ]
  },
  {
   "cell_type": "code",
   "execution_count": 2,
   "id": "250ae094-69b3-4fbb-bfce-ac5347b96956",
   "metadata": {},
   "outputs": [
    {
     "name": "stdout",
     "output_type": "stream",
     "text": [
      "        Gender   Height Weight  Index  Unnamed: 4  Unnamed: 5 female  male\n",
      "0    Fema   le  15    8     89      4         NaN         NaN    158   158\n",
      "1    Fema   le  15    8     89      4         NaN         NaN    158   158\n",
      "2       Female      178    127      4         NaN         NaN    178   178\n",
      "3       Female     none    139      5         NaN         NaN   none  none\n",
      "4       Female     none    104      5         NaN         NaN    181   181\n",
      "..         ...      ...    ...    ...         ...         ...    ...   ...\n",
      "399       Male      190   none      5         NaN         NaN    NaN   NaN\n",
      "400       Male      164    130      5         NaN         NaN    NaN   NaN\n",
      "401       Male      185    138      5         NaN         NaN    NaN   NaN\n",
      "402       Male      188    158      5         NaN         NaN    NaN   NaN\n",
      "403       Male      161    155      5         NaN         NaN    NaN   NaN\n",
      "\n",
      "[404 rows x 8 columns]\n"
     ]
    }
   ],
   "source": [
    "import pandas as pd\n",
    "import numpy as np\n",
    "df=pd.read_csv(\"dirtybmi_22.csv\")\n",
    "mapping={\n",
    "    'True':1,\n",
    "    'False':0,\n",
    "    'Female':1,\n",
    "    'Male':0\n",
    "}\n",
    "df['Gender'].map(mapping)\n",
    "print(df)"
   ]
  },
  {
   "cell_type": "code",
   "execution_count": 53,
   "id": "2bf05995-14c9-4990-b46a-29466d61eef3",
   "metadata": {},
   "outputs": [
    {
     "name": "stdout",
     "output_type": "stream",
     "text": [
      "   integers                                   range\n",
      "0         3                               (0, 1, 2)\n",
      "1         5                         (0, 1, 2, 3, 4)\n",
      "2         7                   (0, 1, 2, 3, 4, 5, 6)\n",
      "3        10          (0, 1, 2, 3, 4, 5, 6, 7, 8, 9)\n",
      "4        12  (0, 1, 2, 3, 4, 5, 6, 7, 8, 9, 10, 11)\n"
     ]
    }
   ],
   "source": [
    "data={\n",
    "    'integers':[3,5,7,10,12]\n",
    "}\n",
    "df=pd.DataFrame(data)\n",
    "df['range']=df['integers'].apply(lambda x:range(x))\n",
    "print(df)"
   ]
  },
  {
   "cell_type": "code",
   "execution_count": 6,
   "id": "27734b75-cdc2-4ab0-a62c-205b910a8bc0",
   "metadata": {},
   "outputs": [
    {
     "name": "stdout",
     "output_type": "stream",
     "text": [
      "<class 'pandas.core.frame.DataFrame'>\n",
      "RangeIndex: 404 entries, 0 to 403\n",
      "Data columns (total 8 columns):\n",
      " #   Column      Non-Null Count  Dtype   \n",
      "---  ------      --------------  -----   \n",
      " 0   Gender      404 non-null    category\n",
      " 1   Height      404 non-null    string  \n",
      " 2   Weight      404 non-null    string  \n",
      " 3   Index       404 non-null    int32   \n",
      " 4   Unnamed: 4  0 non-null      float64 \n",
      " 5   Unnamed: 5  0 non-null      float64 \n",
      " 6   female      204 non-null    category\n",
      " 7   male        204 non-null    category\n",
      "dtypes: category(3), float64(2), int32(1), string(2)\n",
      "memory usage: 20.9 KB\n"
     ]
    }
   ],
   "source": [
    "import pandas as pd\n",
    "import numpy as np\n",
    "df=pd.read_csv(\"dirtybmi_22.csv\")\n",
    "df['Gender']=df['Gender'].astype('category')\n",
    "df['Height']=df['Height'].astype('string')\n",
    "df['Weight']=df['Weight'].astype('string')\n",
    "df['Index']=df['Index'].astype('int')\n",
    "df['female']=df['female'].astype('category')\n",
    "df['male']=df['male'].astype('category')\n",
    "df.info()"
   ]
  },
  {
   "cell_type": "code",
   "execution_count": 7,
   "id": "54a4b2c9-2326-4aae-b447-d23410eb067c",
   "metadata": {},
   "outputs": [
    {
     "name": "stdout",
     "output_type": "stream",
     "text": [
      "original DataFrame:\n",
      "          Name          City\n",
      "0      Rose        Makueni  \n",
      "1      Jane       Kwavonza  \n",
      "2    Charlie         Kitui  \n",
      "3      Faith       Mselele  \n"
     ]
    }
   ],
   "source": [
    "data={\n",
    "    'Name':  ['   Rose   ','   Jane   ','  Charlie  ','  Faith  '],\n",
    "    'City':  ['   Makueni  ','  Kwavonza  ','  Kitui  ','  Mselele  ']\n",
    "}\n",
    "df=pd.DataFrame(data)\n",
    "print(\"original DataFrame:\")\n",
    "print(df)"
   ]
  },
  {
   "cell_type": "code",
   "execution_count": 29,
   "id": "aee0bbe6-4e42-4841-bec2-ce6d1c3d135f",
   "metadata": {},
   "outputs": [
    {
     "name": "stdout",
     "output_type": "stream",
     "text": [
      "\n",
      "Trimmed DataFrame:\n",
      "      Name      City\n",
      "0     Rose   Makueni\n",
      "1     Jane  Kwavonza\n",
      "2  Charlie     Kitui\n",
      "3    Faith   Mselele\n"
     ]
    }
   ],
   "source": [
    "df['Name']=df['Name'].str.strip()\n",
    "df['City']=df['City'].str.strip()\n",
    "print(\"\\nTrimmed DataFrame:\")\n",
    "print(df)"
   ]
  },
  {
   "cell_type": "code",
   "execution_count": 37,
   "id": "2b6449dd-0d85-4cfc-b573-c3ddd4d40300",
   "metadata": {},
   "outputs": [
    {
     "name": "stdout",
     "output_type": "stream",
     "text": [
      "\n",
      "Row with out_of_range 'height':\n",
      "     Child participated in POLIO campaign August 2013  diarrhea_status  \\\n",
      "43                                                  1               No   \n",
      "103                                                 1               No   \n",
      "127                                                 1               No   \n",
      "158                                                 1               No   \n",
      "396                                                 1               No   \n",
      "450                                                 1               No   \n",
      "456                                                 2               No   \n",
      "531                                                 1               No   \n",
      "577                                                 2               No   \n",
      "678                                                 1               No   \n",
      "733                                                 1               No   \n",
      "757                                                 1               No   \n",
      "795                                                 2               No   \n",
      "\n",
      "     weight  height residence     Sex  age age_category   education  \\\n",
      "43     20.5   112.0     Rural    Male   53        48-59     Primary   \n",
      "103    14.6   114.3     Rural    Male   56        48-59     Primary   \n",
      "127    20.3   110.4     Rural  Female   50        48-59     Primary   \n",
      "158    13.3   111.9     Rural    Male   58        48-59  Secondary+   \n",
      "396    19.3   112.8     Urban    Male   56        48-59  Secondary+   \n",
      "450    12.0   124.8     Rural    Male   52        48-59     Primary   \n",
      "456     3.2    48.2     Rural  Female    0          0-5     Primary   \n",
      "531    20.1   110.1     Rural    Male   58        48-59  Secondary+   \n",
      "577     4.8    48.2     Rural  Female    1          0-5     Primary   \n",
      "678    18.2   112.7     Urban  Female   50        48-59  Secondary+   \n",
      "733    18.7   112.1     Urban  Female   58        48-59  Secondary+   \n",
      "757    19.9   117.9     Urban  Female   58        48-59     Primary   \n",
      "795     3.5    45.0     Urban    Male    0          0-5  Secondary+   \n",
      "\n",
      "    wealth_index  \n",
      "43       Richest  \n",
      "103       Fourth  \n",
      "127       Middle  \n",
      "158       Middle  \n",
      "396      Richest  \n",
      "450       Middle  \n",
      "456      Poorest  \n",
      "531       Second  \n",
      "577      Poorest  \n",
      "678      Poorest  \n",
      "733       Fourth  \n",
      "757       Second  \n",
      "795       Fourth  \n",
      "\n",
      "Row with out_of_range 'weight':\n",
      "     Child participated in POLIO campaign August 2013  diarrhea_status  \\\n",
      "43                                                  1               No   \n",
      "127                                                 1               No   \n",
      "150                                                 2               No   \n",
      "334                                                 2              Yes   \n",
      "456                                                 2               No   \n",
      "493                                                 2               No   \n",
      "494                                                 2               No   \n",
      "531                                                 1               No   \n",
      "548                                                 2              Yes   \n",
      "627                                                 1               No   \n",
      "795                                                 2               No   \n",
      "\n",
      "     weight  height residence     Sex  age age_category   education  \\\n",
      "43     20.5   112.0     Rural    Male   53        48-59     Primary   \n",
      "127    20.3   110.4     Rural  Female   50        48-59     Primary   \n",
      "150     3.8    62.3     Rural    Male    4          0-5     Primary   \n",
      "334     3.2    71.4     Urban    Male    7       11-Jun     Primary   \n",
      "456     3.2    48.2     Rural  Female    0          0-5     Primary   \n",
      "493     3.1    51.0     Rural    Male    2          0-5         NaN   \n",
      "494     3.1    51.5     Rural  Female    2          0-5         NaN   \n",
      "531    20.1   110.1     Rural    Male   58        48-59  Secondary+   \n",
      "548     3.5    58.0     Rural    Male    0          0-5  Secondary+   \n",
      "627    25.0    98.5     Rural    Male   37        36-47  Secondary+   \n",
      "795     3.5    45.0     Urban    Male    0          0-5  Secondary+   \n",
      "\n",
      "    wealth_index  \n",
      "43       Richest  \n",
      "127       Middle  \n",
      "150       Second  \n",
      "334       Middle  \n",
      "456      Poorest  \n",
      "493      Poorest  \n",
      "494      Poorest  \n",
      "531       Second  \n",
      "548       Fourth  \n",
      "627      Poorest  \n",
      "795       Fourth  \n"
     ]
    }
   ],
   "source": [
    "import pandas as pd\n",
    "from scipy import stats\n",
    "csv_file='childhealthdata.csv'\n",
    "df=pd.read_csv(csv_file)\n",
    "height_min, height_max=50,110\n",
    "weight_min, weight_max=4,20\n",
    "out_of_range_height=df[(df['height'] < height_min) | (df['height'] >height_max)]\n",
    "out_of_range_weight=df[(df['weight'] < weight_min) | (df['weight'] > weight_max)]\n",
    "print(\"\\nRow with out_of_range 'height':\")\n",
    "print(out_of_range_height)\n",
    "print(\"\\nRow with out_of_range 'weight':\")\n",
    "print(out_of_range_weight)"
   ]
  },
  {
   "cell_type": "code",
   "execution_count": 39,
   "id": "f86fc08f-10c5-47e8-a064-99e610e400c2",
   "metadata": {},
   "outputs": [
    {
     "name": "stdout",
     "output_type": "stream",
     "text": [
      "0      False\n",
      "1       True\n",
      "2      False\n",
      "3      False\n",
      "4      False\n",
      "       ...  \n",
      "399    False\n",
      "400    False\n",
      "401    False\n",
      "402    False\n",
      "403    False\n",
      "Length: 404, dtype: bool\n"
     ]
    }
   ],
   "source": [
    "import pandas as pd\n",
    "from scipy import stats\n",
    "df=pd.read_csv('dirtybmi_22.csv')\n",
    "duplicates=df.duplicated()\n",
    "print(duplicates)"
   ]
  },
  {
   "cell_type": "code",
   "execution_count": 2,
   "id": "c43ccc8a-6ba6-4c1e-9fd9-db54877424ab",
   "metadata": {},
   "outputs": [
    {
     "name": "stdout",
     "output_type": "stream",
     "text": [
      "<bound method DataFrame.drop_duplicates of         Gender   Height Weight  Index  Unnamed: 4  Unnamed: 5 female  male\n",
      "0    Fema   le  15    8     89      4         NaN         NaN    158   158\n",
      "1    Fema   le  15    8     89      4         NaN         NaN    158   158\n",
      "2       Female      178    127      4         NaN         NaN    178   178\n",
      "3       Female     none    139      5         NaN         NaN   none  none\n",
      "4       Female     none    104      5         NaN         NaN    181   181\n",
      "..         ...      ...    ...    ...         ...         ...    ...   ...\n",
      "399       Male      190   none      5         NaN         NaN    NaN   NaN\n",
      "400       Male      164    130      5         NaN         NaN    NaN   NaN\n",
      "401       Male      185    138      5         NaN         NaN    NaN   NaN\n",
      "402       Male      188    158      5         NaN         NaN    NaN   NaN\n",
      "403       Male      161    155      5         NaN         NaN    NaN   NaN\n",
      "\n",
      "[404 rows x 8 columns]>\n"
     ]
    }
   ],
   "source": [
    "import pandas as pd\n",
    "from scipy import stats\n",
    "df=pd.read_csv('dirtybmi_22.csv')\n",
    "df.drop_duplicates\n",
    "clean=df.drop_duplicates\n",
    "print(clean)"
   ]
  },
  {
   "cell_type": "code",
   "execution_count": 3,
   "id": "ecf6b46f-c857-4736-ad5c-37b26a82ef93",
   "metadata": {},
   "outputs": [
    {
     "name": "stdout",
     "output_type": "stream",
     "text": [
      "\n",
      "Trimmed DataFrame:\n",
      "        Gender   Height Weight  Index  Unnamed: 4  Unnamed: 5 female  male\n",
      "0    Fema   le  15    8     89      4         NaN         NaN    158   158\n",
      "1    Fema   le  15    8     89      4         NaN         NaN    158   158\n",
      "2       Female      178    127      4         NaN         NaN    178   178\n",
      "3       Female     none    139      5         NaN         NaN   none  none\n",
      "4       Female     none    104      5         NaN         NaN    181   181\n",
      "..         ...      ...    ...    ...         ...         ...    ...   ...\n",
      "399       Male      190   none      5         NaN         NaN    NaN   NaN\n",
      "400       Male      164    130      5         NaN         NaN    NaN   NaN\n",
      "401       Male      185    138      5         NaN         NaN    NaN   NaN\n",
      "402       Male      188    158      5         NaN         NaN    NaN   NaN\n",
      "403       Male      161    155      5         NaN         NaN    NaN   NaN\n",
      "\n",
      "[404 rows x 8 columns]\n"
     ]
    }
   ],
   "source": [
    "import pandas as pd\n",
    "df['Gender']=df['Gender'].str.strip()\n",
    "df['Weight']=df['Weight'].str.strip()\n",
    "print(\"\\nTrimmed DataFrame:\")\n",
    "print(df)"
   ]
  },
  {
   "cell_type": "code",
   "execution_count": 12,
   "id": "175c0f0f-56a3-4c56-82eb-c796b5718f74",
   "metadata": {},
   "outputs": [
    {
     "data": {
      "text/plain": [
       "<bound method NDFrame.head of    patient ID     Name   Gender Bloog Type Diagnosis code\n",
       "0           1    Alice   Female         A+            A00\n",
       "1           2      Bob     Male         B-            B99\n",
       "2           3  Charlie    other         O+            C30\n",
       "3           4    David  unknown        AB-            XYZ>"
      ]
     },
     "execution_count": 12,
     "metadata": {},
     "output_type": "execute_result"
    }
   ],
   "source": [
    "import pandas as pd\n",
    "data={\n",
    "    'patient ID':[1,2,3,4],\n",
    "    'Name':['Alice','Bob','Charlie','David'],\n",
    "    'Gender':['Female','Male','other','unknown'],#\"unknown\" is invalid\n",
    "    'Bloog Type':['A+','B-','O+','AB-'],#All valid\n",
    "    'Diagnosis code':['A00','B99','C30','XYZ']\n",
    "}\n",
    "df=pd.DataFrame(data)\n",
    "df.head"
   ]
  },
  {
   "cell_type": "code",
   "execution_count": 6,
   "id": "f3f8087a-8e5c-47ce-84b8-eea1bb74a5af",
   "metadata": {},
   "outputs": [
    {
     "data": {
      "text/plain": [
       "<bound method NDFrame.head of    patient ID     Name   Gender Bloog Type Diagnosis code\n",
       "0           1    Alice   Female         A+            A00\n",
       "1           2      Bob     Male         B-            B99\n",
       "2           3  Charlie    other         O+            C30\n",
       "3           4    David  unknown        AB-            XYZ>"
      ]
     },
     "execution_count": 6,
     "metadata": {},
     "output_type": "execute_result"
    }
   ],
   "source": [
    "valid_genders={'Male','Female','other'}\n",
    "valid_blood_types={'A+','A-','B+','B-','O+','O-','AB+','AB-'}\n",
    "valid_dignosis_codes={'A00','B99','C30'}\n",
    "df.head"
   ]
  },
  {
   "cell_type": "code",
   "execution_count": 13,
   "id": "7a69c288-86aa-474f-ad5a-1e3e16714388",
   "metadata": {},
   "outputs": [],
   "source": [
    "def check_membership(value,valid_set):\n",
    "    if value not in valid_set:\n",
    "        return False\n",
    "    return True\n",
    "def validate_health_data(df):\n",
    "    invalid_rows=[]\n",
    "    for index,row in df.interrows():\n",
    "        errors={}\n",
    "        if not check_membership(row['Gender'],valid_genders):\n",
    "            errors['Gender']=row['Gender']\n",
    "        if not check_membership(row['Blood Type'],valid_blood_type):\n",
    "            errors['Blood Type']=row['Blood Type']\n",
    "        if not check_membership(row['Diagnosis code'],valid_diagnosis_code):\n",
    "            errors['Diagnosis code']=row['Diagnosis code']        "
   ]
  },
  {
   "cell_type": "code",
   "execution_count": 17,
   "id": "90b60684-13e6-46b2-ab5c-196162f00a37",
   "metadata": {},
   "outputs": [
    {
     "ename": "NameError",
     "evalue": "name 'invalid_entries' is not defined",
     "output_type": "error",
     "traceback": [
      "\u001b[1;31m---------------------------------------------------------------------------\u001b[0m",
      "\u001b[1;31mNameError\u001b[0m                                 Traceback (most recent call last)",
      "Cell \u001b[1;32mIn[17], line 1\u001b[0m\n\u001b[1;32m----> 1\u001b[0m df_cleaned\u001b[38;5;241m=\u001b[39mdf\u001b[38;5;241m.\u001b[39mdrop(index\u001b[38;5;241m=\u001b[39m[entry[\u001b[38;5;124m'\u001b[39m\u001b[38;5;124mindex\u001b[39m\u001b[38;5;124m'\u001b[39m]\u001b[38;5;28;01mfor\u001b[39;00m entry \u001b[38;5;129;01min\u001b[39;00m invalid_entries])\n\u001b[0;32m      2\u001b[0m \u001b[38;5;28;01mfor\u001b[39;00m entry \u001b[38;5;129;01min\u001b[39;00m invalid_entries:\n\u001b[0;32m      3\u001b[0m     \u001b[38;5;28;01mfor\u001b[39;00m field \u001b[38;5;129;01min\u001b[39;00m entry[\u001b[38;5;124m'\u001b[39m\u001b[38;5;124merrors\u001b[39m\u001b[38;5;124m'\u001b[39m]:\n",
      "\u001b[1;31mNameError\u001b[0m: name 'invalid_entries' is not defined"
     ]
    }
   ],
   "source": [
    "df_cleaned=df.drop(index=[entry['index']for entry in invalid_entries])\n",
    "for entry in invalid_entries:\n",
    "    for field in entry['errors']:\n",
    "        if field=='Gender':\n",
    "            df.at[entry['index'],field]='other'\n",
    "        elif field=='Diagnosis code':\n",
    "            df.at[entry['index'],field]='A00'\n",
    "print(\"\\ncleaned DataFrame:\")\n",
    "print(df_cleaned)"
   ]
  },
  {
   "cell_type": "code",
   "execution_count": 27,
   "id": "c58080ce-ba28-4392-8203-8134f60b4de5",
   "metadata": {},
   "outputs": [
    {
     "name": "stdout",
     "output_type": "stream",
     "text": [
      "Invalid Rows:\n",
      "   EmployeeID Name  Age  Years of Experience Is Valid\n",
      "1           2  Bob   25                   27    False\n"
     ]
    }
   ],
   "source": [
    "import pandas as pd\n",
    "data={\n",
    "    'EmployeeID':[1,2,3,4],\n",
    "    'Name':['Alice','Bob','Charlie','David'],\n",
    "    'Age':[30,25,40,22],\n",
    "    'Years of Experience':[5,27,15,1]\n",
    "}\n",
    "df=pd.DataFrame(data)\n",
    "#cross-field validation function\n",
    "def validate_experience(row):\n",
    "   if row['Years of Experience']>row['Age']:\n",
    "       return False\n",
    "       return True\n",
    "df['Is Valid']=df.apply(validate_experience,axis=1)\n",
    "invalid_rows=df[df['Is Valid']==False]\n",
    "print(\"Invalid Rows:\")\n",
    "print(invalid_rows)"
   ]
  },
  {
   "cell_type": "code",
   "execution_count": 32,
   "id": "c7969816-66ff-48bf-a483-ad034aace978",
   "metadata": {},
   "outputs": [],
   "source": [
    "import pandas as pd\n",
    "data={\n",
    "    'Start Date':['2023-01-01','2023-02-01','2023-03-01'],\n",
    "    'End Date':['2023-01-10','2023-10-15','2023-04-01']\n",
    "}\n",
    "df=pd.DataFrame(data)\n",
    "df['Start Date']=pd.to_datetime(df['Start Date'])\n",
    "df['End Date']=pd.to_datetime(df['End Date'])"
   ]
  },
  {
   "cell_type": "code",
   "execution_count": 33,
   "id": "c95a896d-b26d-498d-b011-abb3faf94ea4",
   "metadata": {},
   "outputs": [
    {
     "name": "stdout",
     "output_type": "stream",
     "text": [
      "  Start Date   End Date  Valid\n",
      "0 2023-01-01 2023-01-10   True\n",
      "1 2023-02-01 2023-10-15   True\n",
      "2 2023-03-01 2023-04-01   True\n",
      "All rows are valid.\n"
     ]
    }
   ],
   "source": [
    "df['Valid']=df['Start Date']<df['End Date']\n",
    "print(df)\n",
    "invalid_rows=df[~df['Valid']]\n",
    "if not invalid_rows.empty:\n",
    "    print(\"Invalid rows found:\")\n",
    "    print(invalid_rows)\n",
    "else:\n",
    "    print(\"All rows are valid.\")"
   ]
  },
  {
   "cell_type": "code",
   "execution_count": 37,
   "id": "15a69480-588c-40a5-bb57-680e689c278e",
   "metadata": {},
   "outputs": [
    {
     "name": "stdout",
     "output_type": "stream",
     "text": [
      "Invalid Rows\n",
      "        Gender Height    Weight  Index  Unnamed: 4  Unnamed: 5 female  male  \\\n",
      "2       Female    178       127      4         NaN         NaN    178   178   \n",
      "3       Female   none       139      5         NaN         NaN   none  none   \n",
      "4       Female   none       104      5         NaN         NaN    181   181   \n",
      "7    Fe   male    146  10     8      4         NaN         NaN    146   146   \n",
      "8       Female    173       130      5         NaN         NaN    173   173   \n",
      "..         ...    ...       ...    ...         ...         ...    ...   ...   \n",
      "398       Male    186       117      4         NaN         NaN    NaN   NaN   \n",
      "400       Male    164       130      5         NaN         NaN    NaN   NaN   \n",
      "401       Male    185       138      5         NaN         NaN    NaN   NaN   \n",
      "402       Male    188       158      5         NaN         NaN    NaN   NaN   \n",
      "403       Male    161       155      5         NaN         NaN    NaN   NaN   \n",
      "\n",
      "    Is Valid  \n",
      "2      False  \n",
      "3      False  \n",
      "4      False  \n",
      "7      False  \n",
      "8      False  \n",
      "..       ...  \n",
      "398    False  \n",
      "400    False  \n",
      "401    False  \n",
      "402    False  \n",
      "403    False  \n",
      "\n",
      "[212 rows x 9 columns]\n"
     ]
    }
   ],
   "source": [
    "import pandas as pd\n",
    "from scipy import stats\n",
    "df=pd.read_csv('dirtybmi_22.csv')\n",
    "def validate_Height(row):\n",
    "    if row['Height']>row['Weight']:\n",
    "     return False\n",
    "     return True\n",
    "df['Is Valid']=df.apply(validate_Height,axis=1)\n",
    "invalid_rows=df[df['Is Valid']==False]\n",
    "print(\"Invalid Rows\")\n",
    "print(invalid_rows)\n"
   ]
  },
  {
   "cell_type": "code",
   "execution_count": 38,
   "id": "45580f3b-5953-424a-b622-a772c1dbe5f0",
   "metadata": {},
   "outputs": [],
   "source": [
    "import pandas as pd \n",
    "import numpy as np\n",
    "data={\n",
    "    'A':[1,2,np.nan,4,5],\n",
    "    'B':[5,np.nan,np.nan,8,10],\n",
    "    'C':[np.nan,2,3,4,np.nan],\n",
    "    'D':['dog','cat','np.nan','mouse','rabbit']\n",
    "}"
   ]
  },
  {
   "cell_type": "code",
   "execution_count": 39,
   "id": "ca8ff48f-b62e-474c-9bbe-bb88466fe691",
   "metadata": {},
   "outputs": [
    {
     "name": "stdout",
     "output_type": "stream",
     "text": [
      "original DataFrame:\n",
      "     A     B    C       D\n",
      "0  1.0   5.0  NaN     dog\n",
      "1  2.0   NaN  2.0     cat\n",
      "2  NaN   NaN  3.0  np.nan\n",
      "3  4.0   8.0  4.0   mouse\n",
      "4  5.0  10.0  NaN  rabbit\n"
     ]
    }
   ],
   "source": [
    "df=pd.DataFrame(data)\n",
    "print(\"original DataFrame:\")\n",
    "print(df)"
   ]
  },
  {
   "cell_type": "code",
   "execution_count": 43,
   "id": "0caeed75-9399-4240-88d7-00e282a91691",
   "metadata": {},
   "outputs": [
    {
     "name": "stdout",
     "output_type": "stream",
     "text": [
      "\n",
      "Detect missing values:\n",
      "       A      B      C      D\n",
      "0  False  False   True  False\n",
      "1  False   True  False  False\n",
      "2   True   True  False  False\n",
      "3  False  False  False  False\n",
      "4  False  False   True  False\n",
      "\n",
      "DataFrame after dropping rows with any missing values:\n"
     ]
    }
   ],
   "source": [
    "print(\"\\nDetect missing values:\")\n",
    "print(df.isnull())\n",
    "df_dropna=df.dropna()\n",
    "print(\"\\nDataFrame after dropping rows with any missing values:\")"
   ]
  },
  {
   "cell_type": "code",
   "execution_count": 44,
   "id": "27158e4a-0fd4-4b4f-b5d2-532fa0ece059",
   "metadata": {},
   "outputs": [
    {
     "name": "stdout",
     "output_type": "stream",
     "text": [
      "\n",
      "DataFrame after dropping rows with missing values in colums 'A','B':\n",
      "     A     B    C       D\n",
      "0  1.0   5.0  NaN     dog\n",
      "3  4.0   8.0  4.0   mouse\n",
      "4  5.0  10.0  NaN  rabbit\n"
     ]
    }
   ],
   "source": [
    "df_dropna_subset=df.dropna(subset=['A','B'])\n",
    "print(\"\\nDataFrame after dropping rows with missing values in colums 'A','B':\")\n",
    "print(df_dropna_subset)"
   ]
  },
  {
   "cell_type": "code",
   "execution_count": 46,
   "id": "ab206cf4-5404-41e3-aac4-dc0f88352b97",
   "metadata": {},
   "outputs": [
    {
     "name": "stdout",
     "output_type": "stream",
     "text": [
      "\n",
      "DataFrame after filling missing values with 0:\n",
      "     A     B    C       D\n",
      "0  1.0   5.0  0.0     dog\n",
      "1  2.0   0.0  2.0     cat\n",
      "2  0.0   0.0  3.0  np.nan\n",
      "3  4.0   8.0  4.0   mouse\n",
      "4  5.0  10.0  0.0  rabbit\n"
     ]
    }
   ],
   "source": [
    "df_fillna=df.fillna(0)\n",
    "print(\"\\nDataFrame after filling missing values with 0:\")\n",
    "print(df_fillna)"
   ]
  },
  {
   "cell_type": "code",
   "execution_count": 47,
   "id": "4befe502-21fb-4784-936a-d023c5f0a134",
   "metadata": {},
   "outputs": [
    {
     "name": "stdout",
     "output_type": "stream",
     "text": [
      "\n",
      "DataFrame after filling missing values with column mean:\n",
      "     A          B    C       D\n",
      "0  1.0   5.000000  3.0     dog\n",
      "1  2.0   7.666667  2.0     cat\n",
      "2  3.0   7.666667  3.0  np.nan\n",
      "3  4.0   8.000000  4.0   mouse\n",
      "4  5.0  10.000000  3.0  rabbit\n"
     ]
    }
   ],
   "source": [
    "df_fillna_mean=df.fillna(df.mean(numeric_only=True))\n",
    "print(\"\\nDataFrame after filling missing values with column mean:\")\n",
    "print(df_fillna_mean)"
   ]
  },
  {
   "cell_type": "code",
   "execution_count": 48,
   "id": "3f3e7192-6f78-4d52-96a5-7e86cd5c6daa",
   "metadata": {},
   "outputs": [
    {
     "name": "stdout",
     "output_type": "stream",
     "text": [
      "\n",
      "DataFrame after forward fill:\n",
      "     A     B    C       D\n",
      "0  1.0   5.0  NaN     dog\n",
      "1  2.0   5.0  2.0     cat\n",
      "2  2.0   5.0  3.0  np.nan\n",
      "3  4.0   8.0  4.0   mouse\n",
      "4  5.0  10.0  4.0  rabbit\n"
     ]
    }
   ],
   "source": [
    "df_ffill=df.ffill()\n",
    "print(\"\\nDataFrame after forward fill:\")\n",
    "print(df_ffill)"
   ]
  },
  {
   "cell_type": "code",
   "execution_count": 50,
   "id": "ca202862-83a2-40bd-a1fb-ee40f146a78c",
   "metadata": {},
   "outputs": [
    {
     "name": "stdout",
     "output_type": "stream",
     "text": [
      "\n",
      "DataFrame after interpolate:\n",
      "     A     B    C       D\n",
      "0  1.0   5.0  NaN     dog\n",
      "1  2.0   6.0  2.0     cat\n",
      "2  3.0   7.0  3.0  np.nan\n",
      "3  4.0   8.0  4.0   mouse\n",
      "4  5.0  10.0  4.0  rabbit\n"
     ]
    },
    {
     "name": "stderr",
     "output_type": "stream",
     "text": [
      "C:\\Users\\ADMIN\\AppData\\Local\\Temp\\ipykernel_9608\\2876078083.py:1: FutureWarning: DataFrame.interpolate with object dtype is deprecated and will raise in a future version. Call obj.infer_objects(copy=False) before interpolating instead.\n",
      "  df_interpolate=df.interpolate()\n"
     ]
    }
   ],
   "source": [
    "df_interpolate=df.interpolate()\n",
    "print(\"\\nDataFrame after interpolate:\")\n",
    "print(df_interpolate)"
   ]
  }
 ],
 "metadata": {
  "kernelspec": {
   "display_name": "Python 3 (ipykernel)",
   "language": "python",
   "name": "python3"
  },
  "language_info": {
   "codemirror_mode": {
    "name": "ipython",
    "version": 3
   },
   "file_extension": ".py",
   "mimetype": "text/x-python",
   "name": "python",
   "nbconvert_exporter": "python",
   "pygments_lexer": "ipython3",
   "version": "3.11.7"
  }
 },
 "nbformat": 4,
 "nbformat_minor": 5
}
